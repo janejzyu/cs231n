{
 "cells": [
  {
   "cell_type": "code",
   "execution_count": 8,
   "metadata": {
    "collapsed": true
   },
   "outputs": [],
   "source": [
    "import tensorflow as tf\n",
    "import numpy as np"
   ]
  },
  {
   "cell_type": "code",
   "execution_count": 29,
   "metadata": {
    "collapsed": false
   },
   "outputs": [
    {
     "name": "stdout",
     "output_type": "stream",
     "text": [
      "[array([[12495.,  1002.],\n",
      "       [ 9016.,   738.],\n",
      "       [38612.,  3030.]], dtype=float32)]\n",
      "(1, 3, 2)\n"
     ]
    }
   ],
   "source": [
    "x = tf.placeholder(tf.float32, shape = [None, 2])\n",
    "y = tf.placeholder(tf.float32, shape = [2, None])\n",
    "\n",
    "\n",
    "x_val = np.array([[3, 4],[2, 5], [10, 3]]) #(3, 2)\n",
    "y_val = np.array([[48, 28, 18, 19], [3, 2, 1, 4]]) #(2, 4)\n",
    "\n",
    "z = tf.matmul(x, y)\n",
    "\n",
    "grad = tf.gradients(z, x, grad_ys = z)\n",
    "\n",
    "model = tf.global_variables_initializer() \n",
    "\n",
    "with tf.Session() as session:\n",
    "    result = session.run(grad, feed_dict = {x: x_val, y: y_val})\n",
    "    print(result)\n",
    "    print(np.shape(result))"
   ]
  },
  {
   "cell_type": "code",
   "execution_count": 19,
   "metadata": {
    "collapsed": false
   },
   "outputs": [],
   "source": [
    "z_val = np.dot(x_val, y_val)"
   ]
  },
  {
   "cell_type": "code",
   "execution_count": 23,
   "metadata": {
    "collapsed": false
   },
   "outputs": [
    {
     "name": "stdout",
     "output_type": "stream",
     "text": [
      "[[12495  1002]\n",
      " [ 9016   738]\n",
      " [38612  3030]]\n"
     ]
    }
   ],
   "source": [
    "print(np.dot(z_val, y_val.T))"
   ]
  },
  {
   "cell_type": "code",
   "execution_count": 27,
   "metadata": {
    "collapsed": false
   },
   "outputs": [
    {
     "name": "stdout",
     "output_type": "stream",
     "text": [
      "[3.0]\n"
     ]
    }
   ],
   "source": [
    "a = tf.constant(0.)\n",
    "b = 2 * a\n",
    "g = tf.gradients(a + b, a)\n",
    "with tf.Session() as session:\n",
    "    print(session.run(g))"
   ]
  },
  {
   "cell_type": "code",
   "execution_count": 30,
   "metadata": {
    "collapsed": true
   },
   "outputs": [],
   "source": [
    "a = np.array([2, 4, 1])"
   ]
  },
  {
   "cell_type": "code",
   "execution_count": 33,
   "metadata": {
    "collapsed": false
   },
   "outputs": [
    {
     "data": {
      "text/plain": [
       "4.58257569495584"
      ]
     },
     "execution_count": 33,
     "metadata": {},
     "output_type": "execute_result"
    }
   ],
   "source": [
    "np.linalg.norm(a)"
   ]
  },
  {
   "cell_type": "code",
   "execution_count": 34,
   "metadata": {
    "collapsed": false
   },
   "outputs": [
    {
     "data": {
      "text/plain": [
       "4.58257569495584"
      ]
     },
     "execution_count": 34,
     "metadata": {},
     "output_type": "execute_result"
    }
   ],
   "source": [
    "np.sqrt(np.sum(a * a))"
   ]
  },
  {
   "cell_type": "code",
   "execution_count": null,
   "metadata": {
    "collapsed": true
   },
   "outputs": [],
   "source": []
  }
 ],
 "metadata": {
  "kernelspec": {
   "display_name": "Python 2",
   "language": "python",
   "name": "python2"
  },
  "language_info": {
   "codemirror_mode": {
    "name": "ipython",
    "version": 2
   },
   "file_extension": ".py",
   "mimetype": "text/x-python",
   "name": "python",
   "nbconvert_exporter": "python",
   "pygments_lexer": "ipython2",
   "version": "2.7.12"
  }
 },
 "nbformat": 4,
 "nbformat_minor": 0
}
