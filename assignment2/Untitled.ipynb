{
 "cells": [
  {
   "cell_type": "code",
   "execution_count": 15,
   "metadata": {
    "collapsed": true
   },
   "outputs": [],
   "source": [
    "import tensorflow as tf\n",
    "import numpy as np"
   ]
  },
  {
   "cell_type": "code",
   "execution_count": 9,
   "metadata": {
    "collapsed": true
   },
   "outputs": [],
   "source": [
    "d = tf.constant([7,8,9,10,11,12, 23, 22, 29, 1, 3,\n",
    "                 5, 9,8, 7, 1, 31,12, 23, 22, 29, 1, 3, 5], \n",
    "                shape = [3, 2, 2, 2])\n",
    "d_pad = tf.pad(d, [[1,0], [1, 0], [0,0], [3,1]], \"CONSTANT\")\n"
   ]
  },
  {
   "cell_type": "code",
   "execution_count": 10,
   "metadata": {
    "collapsed": false
   },
   "outputs": [
    {
     "name": "stdout",
     "output_type": "stream",
     "text": [
      "[[[[ 7  8]\n",
      "   [ 9 10]]\n",
      "\n",
      "  [[11 12]\n",
      "   [23 22]]]\n",
      "\n",
      "\n",
      " [[[29  1]\n",
      "   [ 3  5]]\n",
      "\n",
      "  [[ 9  8]\n",
      "   [ 7  1]]]\n",
      "\n",
      "\n",
      " [[[31 12]\n",
      "   [23 22]]\n",
      "\n",
      "  [[29  1]\n",
      "   [ 3  5]]]]\n",
      "[[[[ 0  0  0  0  0  0]\n",
      "   [ 0  0  0  0  0  0]]\n",
      "\n",
      "  [[ 0  0  0  0  0  0]\n",
      "   [ 0  0  0  0  0  0]]\n",
      "\n",
      "  [[ 0  0  0  0  0  0]\n",
      "   [ 0  0  0  0  0  0]]]\n",
      "\n",
      "\n",
      " [[[ 0  0  0  0  0  0]\n",
      "   [ 0  0  0  0  0  0]]\n",
      "\n",
      "  [[ 0  0  0  7  8  0]\n",
      "   [ 0  0  0  9 10  0]]\n",
      "\n",
      "  [[ 0  0  0 11 12  0]\n",
      "   [ 0  0  0 23 22  0]]]\n",
      "\n",
      "\n",
      " [[[ 0  0  0  0  0  0]\n",
      "   [ 0  0  0  0  0  0]]\n",
      "\n",
      "  [[ 0  0  0 29  1  0]\n",
      "   [ 0  0  0  3  5  0]]\n",
      "\n",
      "  [[ 0  0  0  9  8  0]\n",
      "   [ 0  0  0  7  1  0]]]\n",
      "\n",
      "\n",
      " [[[ 0  0  0  0  0  0]\n",
      "   [ 0  0  0  0  0  0]]\n",
      "\n",
      "  [[ 0  0  0 31 12  0]\n",
      "   [ 0  0  0 23 22  0]]\n",
      "\n",
      "  [[ 0  0  0 29  1  0]\n",
      "   [ 0  0  0  3  5  0]]]]\n"
     ]
    }
   ],
   "source": [
    "with tf.Session() as sess:\n",
    "    print(d.eval())\n",
    "    print(d_pad.eval())"
   ]
  },
  {
   "cell_type": "code",
   "execution_count": 18,
   "metadata": {
    "collapsed": false
   },
   "outputs": [
    {
     "name": "stdout",
     "output_type": "stream",
     "text": [
      "(1, 7)\n",
      "(2, 9)\n",
      "(4, 6)\n",
      "(45, 3)\n"
     ]
    }
   ],
   "source": [
    "a = [1, 2, 4, 45]\n",
    "b = [7, 9, 6, 3, 2, 3]\n",
    "for i, j in zip(a, b):\n",
    "    print (i, j)"
   ]
  },
  {
   "cell_type": "code",
   "execution_count": null,
   "metadata": {
    "collapsed": true
   },
   "outputs": [],
   "source": []
  }
 ],
 "metadata": {
  "kernelspec": {
   "display_name": "Python 2",
   "language": "python",
   "name": "python2"
  },
  "language_info": {
   "codemirror_mode": {
    "name": "ipython",
    "version": 2
   },
   "file_extension": ".py",
   "mimetype": "text/x-python",
   "name": "python",
   "nbconvert_exporter": "python",
   "pygments_lexer": "ipython2",
   "version": "2.7.12"
  }
 },
 "nbformat": 4,
 "nbformat_minor": 0
}
